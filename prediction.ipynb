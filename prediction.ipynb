{
 "cells": [
  {
   "cell_type": "code",
   "execution_count": 1,
   "id": "ee6ad225",
   "metadata": {},
   "outputs": [],
   "source": [
    "import pandas as pd\n",
    "import numpy as np\n",
    "import tensorflow as tf\n",
    "from tensorflow.keras.datasets import imdb\n",
    "from tensorflow.keras.preprocessing import sequence\n",
    "from tensorflow.keras.models import load_model"
   ]
  },
  {
   "cell_type": "code",
   "execution_count": 2,
   "id": "03aec91d",
   "metadata": {},
   "outputs": [],
   "source": [
    "## Load the IMDB dataset word index\n",
    "\n",
    "\n",
    "word_index = imdb.get_word_index()\n",
    "reverse_word_index= {value:key for key ,value in  word_index.items()}"
   ]
  },
  {
   "cell_type": "code",
   "execution_count": 3,
   "id": "e5840ffa",
   "metadata": {},
   "outputs": [
    {
     "name": "stderr",
     "output_type": "stream",
     "text": [
      "WARNING:absl:Compiled the loaded model, but the compiled metrics have yet to be built. `model.compile_metrics` will be empty until you train or evaluate the model.\n"
     ]
    },
    {
     "data": {
      "text/html": [
       "<pre style=\"white-space:pre;overflow-x:auto;line-height:normal;font-family:Menlo,'DejaVu Sans Mono',consolas,'Courier New',monospace\"><span style=\"font-weight: bold\">Model: \"sequential_1\"</span>\n",
       "</pre>\n"
      ],
      "text/plain": [
       "\u001b[1mModel: \"sequential_1\"\u001b[0m\n"
      ]
     },
     "metadata": {},
     "output_type": "display_data"
    },
    {
     "data": {
      "text/html": [
       "<pre style=\"white-space:pre;overflow-x:auto;line-height:normal;font-family:Menlo,'DejaVu Sans Mono',consolas,'Courier New',monospace\">┏━━━━━━━━━━━━━━━━━━━━━━━━━━━━━━━━━┳━━━━━━━━━━━━━━━━━━━━━━━━┳━━━━━━━━━━━━━━━┓\n",
       "┃<span style=\"font-weight: bold\"> Layer (type)                    </span>┃<span style=\"font-weight: bold\"> Output Shape           </span>┃<span style=\"font-weight: bold\">       Param # </span>┃\n",
       "┡━━━━━━━━━━━━━━━━━━━━━━━━━━━━━━━━━╇━━━━━━━━━━━━━━━━━━━━━━━━╇━━━━━━━━━━━━━━━┩\n",
       "│ embedding_1 (<span style=\"color: #0087ff; text-decoration-color: #0087ff\">Embedding</span>)         │ (<span style=\"color: #00af00; text-decoration-color: #00af00\">32</span>, <span style=\"color: #00af00; text-decoration-color: #00af00\">500</span>, <span style=\"color: #00af00; text-decoration-color: #00af00\">128</span>)         │     <span style=\"color: #00af00; text-decoration-color: #00af00\">1,280,000</span> │\n",
       "├─────────────────────────────────┼────────────────────────┼───────────────┤\n",
       "│ simple_rnn_1 (<span style=\"color: #0087ff; text-decoration-color: #0087ff\">SimpleRNN</span>)        │ (<span style=\"color: #00af00; text-decoration-color: #00af00\">32</span>, <span style=\"color: #00af00; text-decoration-color: #00af00\">128</span>)              │        <span style=\"color: #00af00; text-decoration-color: #00af00\">32,896</span> │\n",
       "├─────────────────────────────────┼────────────────────────┼───────────────┤\n",
       "│ dense_1 (<span style=\"color: #0087ff; text-decoration-color: #0087ff\">Dense</span>)                 │ (<span style=\"color: #00af00; text-decoration-color: #00af00\">32</span>, <span style=\"color: #00af00; text-decoration-color: #00af00\">1</span>)                │           <span style=\"color: #00af00; text-decoration-color: #00af00\">129</span> │\n",
       "└─────────────────────────────────┴────────────────────────┴───────────────┘\n",
       "</pre>\n"
      ],
      "text/plain": [
       "┏━━━━━━━━━━━━━━━━━━━━━━━━━━━━━━━━━┳━━━━━━━━━━━━━━━━━━━━━━━━┳━━━━━━━━━━━━━━━┓\n",
       "┃\u001b[1m \u001b[0m\u001b[1mLayer (type)                   \u001b[0m\u001b[1m \u001b[0m┃\u001b[1m \u001b[0m\u001b[1mOutput Shape          \u001b[0m\u001b[1m \u001b[0m┃\u001b[1m \u001b[0m\u001b[1m      Param #\u001b[0m\u001b[1m \u001b[0m┃\n",
       "┡━━━━━━━━━━━━━━━━━━━━━━━━━━━━━━━━━╇━━━━━━━━━━━━━━━━━━━━━━━━╇━━━━━━━━━━━━━━━┩\n",
       "│ embedding_1 (\u001b[38;5;33mEmbedding\u001b[0m)         │ (\u001b[38;5;34m32\u001b[0m, \u001b[38;5;34m500\u001b[0m, \u001b[38;5;34m128\u001b[0m)         │     \u001b[38;5;34m1,280,000\u001b[0m │\n",
       "├─────────────────────────────────┼────────────────────────┼───────────────┤\n",
       "│ simple_rnn_1 (\u001b[38;5;33mSimpleRNN\u001b[0m)        │ (\u001b[38;5;34m32\u001b[0m, \u001b[38;5;34m128\u001b[0m)              │        \u001b[38;5;34m32,896\u001b[0m │\n",
       "├─────────────────────────────────┼────────────────────────┼───────────────┤\n",
       "│ dense_1 (\u001b[38;5;33mDense\u001b[0m)                 │ (\u001b[38;5;34m32\u001b[0m, \u001b[38;5;34m1\u001b[0m)                │           \u001b[38;5;34m129\u001b[0m │\n",
       "└─────────────────────────────────┴────────────────────────┴───────────────┘\n"
      ]
     },
     "metadata": {},
     "output_type": "display_data"
    },
    {
     "data": {
      "text/html": [
       "<pre style=\"white-space:pre;overflow-x:auto;line-height:normal;font-family:Menlo,'DejaVu Sans Mono',consolas,'Courier New',monospace\"><span style=\"font-weight: bold\"> Total params: </span><span style=\"color: #00af00; text-decoration-color: #00af00\">1,313,027</span> (5.01 MB)\n",
       "</pre>\n"
      ],
      "text/plain": [
       "\u001b[1m Total params: \u001b[0m\u001b[38;5;34m1,313,027\u001b[0m (5.01 MB)\n"
      ]
     },
     "metadata": {},
     "output_type": "display_data"
    },
    {
     "data": {
      "text/html": [
       "<pre style=\"white-space:pre;overflow-x:auto;line-height:normal;font-family:Menlo,'DejaVu Sans Mono',consolas,'Courier New',monospace\"><span style=\"font-weight: bold\"> Trainable params: </span><span style=\"color: #00af00; text-decoration-color: #00af00\">1,313,025</span> (5.01 MB)\n",
       "</pre>\n"
      ],
      "text/plain": [
       "\u001b[1m Trainable params: \u001b[0m\u001b[38;5;34m1,313,025\u001b[0m (5.01 MB)\n"
      ]
     },
     "metadata": {},
     "output_type": "display_data"
    },
    {
     "data": {
      "text/html": [
       "<pre style=\"white-space:pre;overflow-x:auto;line-height:normal;font-family:Menlo,'DejaVu Sans Mono',consolas,'Courier New',monospace\"><span style=\"font-weight: bold\"> Non-trainable params: </span><span style=\"color: #00af00; text-decoration-color: #00af00\">0</span> (0.00 B)\n",
       "</pre>\n"
      ],
      "text/plain": [
       "\u001b[1m Non-trainable params: \u001b[0m\u001b[38;5;34m0\u001b[0m (0.00 B)\n"
      ]
     },
     "metadata": {},
     "output_type": "display_data"
    },
    {
     "data": {
      "text/html": [
       "<pre style=\"white-space:pre;overflow-x:auto;line-height:normal;font-family:Menlo,'DejaVu Sans Mono',consolas,'Courier New',monospace\"><span style=\"font-weight: bold\"> Optimizer params: </span><span style=\"color: #00af00; text-decoration-color: #00af00\">2</span> (12.00 B)\n",
       "</pre>\n"
      ],
      "text/plain": [
       "\u001b[1m Optimizer params: \u001b[0m\u001b[38;5;34m2\u001b[0m (12.00 B)\n"
      ]
     },
     "metadata": {},
     "output_type": "display_data"
    }
   ],
   "source": [
    "# load the pre-trained model with ReLU activation\n",
    "\n",
    "model =load_model('simple_rnn_imdb.h5')\n",
    "model.summary()"
   ]
  },
  {
   "cell_type": "code",
   "execution_count": 5,
   "id": "22bb72ee",
   "metadata": {},
   "outputs": [
    {
     "data": {
      "text/plain": [
       "[array([[-0.702687  , -0.7809478 ,  0.6184454 , ...,  0.0343377 ,\n",
       "         -0.7522823 , -0.4218542 ],\n",
       "        [-0.05655457, -0.00202307,  0.01234707, ..., -0.03107024,\n",
       "         -0.03669785, -0.00522174],\n",
       "        [-0.2059954 , -0.11073986,  0.12402257, ...,  0.04569107,\n",
       "         -0.14267914, -0.06418303],\n",
       "        ...,\n",
       "        [ 0.01980147, -0.01770141,  0.04739937, ...,  0.07903662,\n",
       "          0.05930769, -0.00393763],\n",
       "        [ 0.01736735,  0.09388498,  0.00406015, ..., -0.0252039 ,\n",
       "          0.08955176, -0.04523054],\n",
       "        [-0.02924754, -0.03557304, -0.07225986, ..., -0.03925468,\n",
       "         -0.03597509,  0.00935728]], dtype=float32),\n",
       " array([[-0.12234106,  0.01015345,  0.12402605, ...,  0.01806471,\n",
       "          0.20203887,  0.09482932],\n",
       "        [-0.1546631 , -0.12278171, -0.00830356, ...,  0.1555049 ,\n",
       "          0.09421895,  0.12269416],\n",
       "        [-0.11576824, -0.01235276, -0.16201775, ..., -0.02717775,\n",
       "          0.06356155, -0.02389114],\n",
       "        ...,\n",
       "        [ 0.01841814,  0.1305293 , -0.10094113, ..., -0.0200934 ,\n",
       "         -0.05431404, -0.04769143],\n",
       "        [-0.16652091, -0.02396167,  0.11683629, ..., -0.00248493,\n",
       "         -0.1014962 ,  0.01070857],\n",
       "        [-0.1231653 , -0.03998203,  0.11049137, ..., -0.16665706,\n",
       "         -0.16696014, -0.03959294]], dtype=float32),\n",
       " array([[ 0.09719703,  0.05601548,  0.10365047, ..., -0.03148138,\n",
       "         -0.07450319,  0.04733003],\n",
       "        [-0.08506953,  0.2009936 , -0.09958144, ..., -0.04762306,\n",
       "         -0.01268161,  0.10877199],\n",
       "        [-0.05109195,  0.02874786,  0.06798794, ..., -0.04080354,\n",
       "         -0.07947233, -0.04029124],\n",
       "        ...,\n",
       "        [-0.03262913, -0.07287925,  0.07083113, ...,  0.13428247,\n",
       "         -0.06815524,  0.14749582],\n",
       "        [ 0.0608604 , -0.05510702,  0.15730889, ..., -0.11549648,\n",
       "         -0.0213071 ,  0.01550294],\n",
       "        [ 0.03344446, -0.03376855, -0.11091721, ..., -0.05623781,\n",
       "         -0.0659446 , -0.04033422]], dtype=float32),\n",
       " array([ 0.0355645 ,  0.0132776 , -0.01116679,  0.0089308 , -0.00741115,\n",
       "        -0.01889229,  0.00837898, -0.00918758,  0.00613128,  0.00852316,\n",
       "        -0.02706385, -0.03087024,  0.01722265,  0.02977428, -0.03235417,\n",
       "        -0.02299216,  0.01082002, -0.02390123,  0.02294536,  0.0024076 ,\n",
       "        -0.01014662, -0.02864297,  0.00692324,  0.02057362, -0.02437922,\n",
       "        -0.01428265, -0.01516975, -0.02410804,  0.03161757, -0.02473296,\n",
       "        -0.01207041, -0.00437661,  0.03473373, -0.02399318, -0.00767089,\n",
       "        -0.01063389, -0.00193267,  0.01616904, -0.04218188,  0.00384328,\n",
       "        -0.02043881,  0.02841373, -0.00296554,  0.0064808 , -0.03840863,\n",
       "        -0.03680274, -0.0086307 ,  0.00216265, -0.02312539,  0.01199636,\n",
       "        -0.00682481, -0.01147645, -0.00979697,  0.01836053, -0.02451327,\n",
       "        -0.03675047, -0.03356914, -0.00660355, -0.02383655, -0.02898302,\n",
       "        -0.00539207, -0.01026003, -0.02586378,  0.01412074, -0.00594176,\n",
       "         0.01858666, -0.00856607, -0.01706411,  0.02745884, -0.04361178,\n",
       "        -0.05565261, -0.021944  , -0.01938687, -0.03653239, -0.01340638,\n",
       "         0.02243107, -0.01638522,  0.02670373, -0.03205728,  0.02066296,\n",
       "         0.02202483, -0.02293209, -0.00606018, -0.00071538,  0.00127838,\n",
       "         0.02634411, -0.00227778, -0.01465107, -0.02577409,  0.00643565,\n",
       "         0.01593195, -0.01198862, -0.00256928, -0.0528923 , -0.0275947 ,\n",
       "        -0.02344247,  0.02748569,  0.00402586, -0.017628  , -0.0130776 ,\n",
       "         0.00021318,  0.02659828, -0.01801526, -0.01481515, -0.02581671,\n",
       "         0.01559682,  0.01282612,  0.00246851, -0.01631861, -0.00054295,\n",
       "         0.00718906,  0.00284895, -0.02336136, -0.00338628,  0.02049933,\n",
       "        -0.03374396,  0.01538765, -0.01941268, -0.00687823, -0.01170598,\n",
       "        -0.04594455, -0.01236268,  0.00417979, -0.0103379 , -0.01201366,\n",
       "        -0.00074386, -0.02011232, -0.03705805], dtype=float32),\n",
       " array([[-0.15223283],\n",
       "        [-0.13220261],\n",
       "        [-0.12654923],\n",
       "        [-0.1832829 ],\n",
       "        [ 0.1315604 ],\n",
       "        [-0.01885996],\n",
       "        [-0.00162918],\n",
       "        [ 0.08785909],\n",
       "        [-0.1138338 ],\n",
       "        [ 0.11932929],\n",
       "        [ 0.07421616],\n",
       "        [-0.00771804],\n",
       "        [-0.09788701],\n",
       "        [ 0.25467268],\n",
       "        [ 0.0580064 ],\n",
       "        [ 0.02654704],\n",
       "        [ 0.00718365],\n",
       "        [-0.25948828],\n",
       "        [-0.1870192 ],\n",
       "        [ 0.22546928],\n",
       "        [ 0.01873988],\n",
       "        [ 0.55164385],\n",
       "        [-0.04076798],\n",
       "        [-0.16841824],\n",
       "        [ 0.06527059],\n",
       "        [-0.13587211],\n",
       "        [ 0.15097393],\n",
       "        [-0.10880721],\n",
       "        [ 0.06201432],\n",
       "        [ 0.11366112],\n",
       "        [-0.219765  ],\n",
       "        [-0.08370678],\n",
       "        [ 0.0311024 ],\n",
       "        [-0.1364263 ],\n",
       "        [ 0.08908911],\n",
       "        [-0.15767582],\n",
       "        [ 0.00316211],\n",
       "        [ 0.07083251],\n",
       "        [ 0.1549813 ],\n",
       "        [ 0.30400413],\n",
       "        [ 0.0415605 ],\n",
       "        [ 0.08715303],\n",
       "        [ 0.02426015],\n",
       "        [-0.17069665],\n",
       "        [-0.44422895],\n",
       "        [ 0.02326431],\n",
       "        [-0.2542808 ],\n",
       "        [-0.08938722],\n",
       "        [-0.00665498],\n",
       "        [-0.06522451],\n",
       "        [-0.16782486],\n",
       "        [-0.02255199],\n",
       "        [ 0.15785258],\n",
       "        [-0.10532682],\n",
       "        [-0.0440434 ],\n",
       "        [-0.20990744],\n",
       "        [-0.00308052],\n",
       "        [-0.002865  ],\n",
       "        [-0.02350014],\n",
       "        [-0.11137569],\n",
       "        [ 0.1945551 ],\n",
       "        [ 0.16434263],\n",
       "        [-0.08947479],\n",
       "        [ 0.3436914 ],\n",
       "        [-0.1622705 ],\n",
       "        [-0.1984167 ],\n",
       "        [-0.09553044],\n",
       "        [-0.18097559],\n",
       "        [-0.06175205],\n",
       "        [-0.17325395],\n",
       "        [-0.1646603 ],\n",
       "        [ 0.22317675],\n",
       "        [ 0.08519395],\n",
       "        [-0.17930068],\n",
       "        [-0.14216173],\n",
       "        [ 0.1602686 ],\n",
       "        [-0.01809617],\n",
       "        [-0.18613228],\n",
       "        [ 0.05950628],\n",
       "        [ 0.1817028 ],\n",
       "        [-0.09333988],\n",
       "        [-0.12306911],\n",
       "        [ 0.07236447],\n",
       "        [-0.0455028 ],\n",
       "        [-0.0619664 ],\n",
       "        [-0.07903434],\n",
       "        [ 0.10355771],\n",
       "        [-0.16814804],\n",
       "        [ 0.03807265],\n",
       "        [ 0.22170244],\n",
       "        [-0.19771722],\n",
       "        [-0.14701152],\n",
       "        [-0.17454745],\n",
       "        [-0.09037044],\n",
       "        [-0.04013473],\n",
       "        [ 0.02072807],\n",
       "        [ 0.11181314],\n",
       "        [ 0.20982589],\n",
       "        [-0.09347592],\n",
       "        [-0.09919099],\n",
       "        [-0.12540987],\n",
       "        [ 0.15862179],\n",
       "        [-0.11595115],\n",
       "        [ 0.03481197],\n",
       "        [ 0.09947768],\n",
       "        [ 0.08760953],\n",
       "        [ 0.15417731],\n",
       "        [-0.23117778],\n",
       "        [-0.00493114],\n",
       "        [ 0.16684158],\n",
       "        [-0.23039229],\n",
       "        [ 0.15891847],\n",
       "        [-0.289771  ],\n",
       "        [ 0.28082666],\n",
       "        [ 0.08084524],\n",
       "        [-0.22597827],\n",
       "        [ 0.14918508],\n",
       "        [-0.18538988],\n",
       "        [ 0.1537725 ],\n",
       "        [ 0.16294575],\n",
       "        [-0.00244804],\n",
       "        [ 0.00314938],\n",
       "        [-0.1602819 ],\n",
       "        [-0.16070533],\n",
       "        [ 0.08312387],\n",
       "        [-0.09749202],\n",
       "        [-0.11665291],\n",
       "        [-0.19362797]], dtype=float32),\n",
       " array([-0.8836338], dtype=float32)]"
      ]
     },
     "execution_count": 5,
     "metadata": {},
     "output_type": "execute_result"
    }
   ],
   "source": [
    "model.get_weights()"
   ]
  },
  {
   "cell_type": "code",
   "execution_count": 6,
   "id": "95d0d937",
   "metadata": {},
   "outputs": [],
   "source": [
    "## helper Functions\n",
    "\n",
    "## Function to decode reviews\n",
    "\n",
    "def decode_review(encode_review):\n",
    "    return ' '.join([reverse_word_index.get(i-3,'?')for i in encode_review])\n",
    "\n",
    "# function to preprocess use input\n",
    "def preprocess_text(text):\n",
    "    words = text.lower().split()\n",
    "    encode_review = [word_index.get(word,2)+3 for word in words]\n",
    "    padded_review = sequence.pad_sequences([encode_review],maxlen=500)\n",
    "    return padded_review"
   ]
  },
  {
   "cell_type": "code",
   "execution_count": 7,
   "id": "76282195",
   "metadata": {},
   "outputs": [],
   "source": [
    "## Prediction function\n",
    "\n",
    "\n",
    "def predict_sentiment(review):\n",
    "    preprocesed_input = preprocess_text(review)\n",
    "\n",
    "    prediction =model.predict(preprocesed_input)\n",
    "\n",
    "    sentiment = 'Positive' if prediction[0][0]>0.5 else 'Negative'\n",
    "\n",
    "    return sentiment,prediction[0][0]\n"
   ]
  },
  {
   "cell_type": "code",
   "execution_count": 8,
   "id": "96ae28fd",
   "metadata": {},
   "outputs": [
    {
     "name": "stdout",
     "output_type": "stream",
     "text": [
      "\u001b[1m1/1\u001b[0m \u001b[32m━━━━━━━━━━━━━━━━━━━━\u001b[0m\u001b[37m\u001b[0m \u001b[1m0s\u001b[0m 84ms/step\n",
      "Review:this movie was fantastic ! the acting was great and the plot was thrilling.\n",
      "sentiment:Positive\n",
      "prediction Score:0.9999920129776001\n"
     ]
    }
   ],
   "source": [
    "## Step 4 : User input and prediction\n",
    "## Example review for prediction\n",
    "\n",
    "example_review= \"this movie was fantastic ! the acting was great and the plot was thrilling.\"\n",
    "\n",
    "sentiment , score  = predict_sentiment(example_review)\n",
    "\n",
    "print(f\"Review:{example_review}\")\n",
    "print(f'sentiment:{sentiment}')\n",
    "print(f'prediction Score:{score}')"
   ]
  },
  {
   "cell_type": "code",
   "execution_count": null,
   "id": "41abb374",
   "metadata": {},
   "outputs": [],
   "source": []
  }
 ],
 "metadata": {
  "kernelspec": {
   "display_name": "venv",
   "language": "python",
   "name": "python3"
  },
  "language_info": {
   "codemirror_mode": {
    "name": "ipython",
    "version": 3
   },
   "file_extension": ".py",
   "mimetype": "text/x-python",
   "name": "python",
   "nbconvert_exporter": "python",
   "pygments_lexer": "ipython3",
   "version": "3.9.6"
  }
 },
 "nbformat": 4,
 "nbformat_minor": 5
}
